{
 "metadata": {
  "name": "numpy-advanced"
 },
 "nbformat": 3,
 "nbformat_minor": 0,
 "worksheets": [
  {
   "cells": [
    {
     "cell_type": "markdown",
     "metadata": {},
     "source": [
      "#Numpy\n",
      "\n",
      "1. Introduction\n",
      "1. Array Creation\n",
      "* * *\n",
      "1. Array Method and Properties\n",
      "1. Indexing\n",
      "    1. Slicing\n",
      "    1. Fancy Indexing\n",
      "1. Numerical Operations on Arrays\n",
      "1. Differences\n"
     ]
    },
    {
     "cell_type": "markdown",
     "metadata": {},
     "source": [
      "* * *"
     ]
    },
    {
     "cell_type": "heading",
     "level": 2,
     "metadata": {},
     "source": [
      "3. Array Method and Properties\n"
     ]
    },
    {
     "cell_type": "markdown",
     "metadata": {},
     "source": [
      "Assigning creates alias: does not copy data"
     ]
    },
    {
     "cell_type": "code",
     "collapsed": false,
     "input": [
      "first = np.ones((2, 2))\n",
      "first"
     ],
     "language": "python",
     "metadata": {},
     "outputs": []
    },
    {
     "cell_type": "code",
     "collapsed": false,
     "input": [
      "second = first  # alias\n",
      "second[0, 0] = 9  # not second[0][0]\n",
      "first"
     ],
     "language": "python",
     "metadata": {},
     "outputs": []
    },
    {
     "cell_type": "markdown",
     "metadata": {},
     "source": [
      "Use the array.copy method"
     ]
    },
    {
     "cell_type": "code",
     "collapsed": false,
     "input": [
      "first = np.ones((2, 2))\n",
      "first"
     ],
     "language": "python",
     "metadata": {},
     "outputs": []
    },
    {
     "cell_type": "code",
     "collapsed": false,
     "input": [
      "second = first.copy()\n",
      "second[0, 0] = 9\n",
      "first"
     ],
     "language": "python",
     "metadata": {},
     "outputs": []
    },
    {
     "cell_type": "markdown",
     "metadata": {},
     "source": [
      "Arrays also have properties"
     ]
    },
    {
     "cell_type": "code",
     "collapsed": false,
     "input": [
      "first"
     ],
     "language": "python",
     "metadata": {},
     "outputs": []
    },
    {
     "cell_type": "code",
     "collapsed": false,
     "input": [
      "first.shape  # not a method"
     ],
     "language": "python",
     "metadata": {},
     "outputs": []
    },
    {
     "cell_type": "code",
     "collapsed": false,
     "input": [
      "block = np.zeros((4, 7, 3)) \n",
      "block.shape  # output should be consistent"
     ],
     "language": "python",
     "metadata": {},
     "outputs": []
    },
    {
     "cell_type": "markdown",
     "metadata": {},
     "source": [
      "<span style='font-family:monospace'>array.size</span> is the total number of elements"
     ]
    },
    {
     "cell_type": "code",
     "collapsed": false,
     "input": [
      "first.size"
     ],
     "language": "python",
     "metadata": {},
     "outputs": []
    },
    {
     "cell_type": "code",
     "collapsed": false,
     "input": [
      "block.size"
     ],
     "language": "python",
     "metadata": {},
     "outputs": []
    },
    {
     "cell_type": "markdown",
     "metadata": {},
     "source": [
      "Reverse on all axes with <span style='font-family:monospace'>array.T</span>  or <span style='font-family:monospace'>array.transpose()</span> "
     ]
    },
    {
     "cell_type": "code",
     "collapsed": false,
     "input": [
      "first = np.array([[1, 2, 3],\n",
      "                  [4, 5, 6]])\n",
      "first.T"
     ],
     "language": "python",
     "metadata": {},
     "outputs": []
    },
    {
     "cell_type": "code",
     "collapsed": false,
     "input": [
      "first"
     ],
     "language": "python",
     "metadata": {},
     "outputs": []
    },
    {
     "cell_type": "markdown",
     "metadata": {},
     "source": [
      "Flatten arrays using <span style='font-family:monospace'>array.ravel</span> "
     ]
    },
    {
     "cell_type": "code",
     "collapsed": false,
     "input": [
      "first = np.zeros((2, 2, 2))\n",
      "second = first.ravel()\n",
      "second.shape"
     ],
     "language": "python",
     "metadata": {},
     "outputs": []
    },
    {
     "cell_type": "markdown",
     "metadata": {},
     "source": [
      "What order do raveled values appear in?\n",
      "\n",
      "Think about the 2\u00d74 array A:"
     ]
    },
    {
     "cell_type": "code",
     "collapsed": false,
     "input": [
      "A = array([[1, 2, 3, 4],\n",
      "           [5, 6, 7, 8]])\n",
      "\n",
      "# It looks 2-dimensional\n",
      "# But computer memory is 1-dimensional\n",
      "# Must decide how to lay out values"
     ],
     "language": "python",
     "metadata": {},
     "outputs": []
    },
    {
     "cell_type": "markdown",
     "metadata": {},
     "source": [
      "Row-major order concatenates the rows\n",
      "\n",
      "Used by C and Python"
     ]
    },
    {
     "cell_type": "code",
     "collapsed": false,
     "input": [
      "display(Image(filename='./images/snapshot2.png'))"
     ],
     "language": "python",
     "metadata": {},
     "outputs": []
    },
    {
     "cell_type": "markdown",
     "metadata": {},
     "source": [
      "Column-major order concatenates the columns\n",
      "\n",
      "Used by Fortran and MATLAB\n"
     ]
    },
    {
     "cell_type": "code",
     "collapsed": false,
     "input": [
      "display(Image(filename='./images/snapshot3.png'))"
     ],
     "language": "python",
     "metadata": {},
     "outputs": []
    },
    {
     "cell_type": "markdown",
     "metadata": {},
     "source": [
      "No difference in usability or performance\u2026\n",
      "\n",
      "\u2026but causes headaches when passing data from one language to another\n",
      "\n",
      "(Just like 0-based vs. 1-based indexing)\n"
     ]
    },
    {
     "cell_type": "heading",
     "level": 3,
     "metadata": {},
     "source": [
      "Reshape and Resize"
     ]
    },
    {
     "cell_type": "code",
     "collapsed": false,
     "input": [
      "first = np.array([1, 2, 3, 4, 5, 6])\n",
      "first.shape\n",
      "# tuple with 1 element"
     ],
     "language": "python",
     "metadata": {},
     "outputs": []
    },
    {
     "cell_type": "code",
     "collapsed": false,
     "input": [
      "second = first.reshape(2, 3)\n",
      "second"
     ],
     "language": "python",
     "metadata": {},
     "outputs": []
    },
    {
     "cell_type": "code",
     "collapsed": false,
     "input": [
      "# reshape may also aliases the data\n",
      "second[0,0]=10\n",
      "first"
     ],
     "language": "python",
     "metadata": {},
     "outputs": []
    },
    {
     "cell_type": "markdown",
     "metadata": {},
     "source": [
      "New shape must have same size as old\n"
     ]
    },
    {
     "cell_type": "code",
     "collapsed": false,
     "input": [
      "first = np.zeros((2, 2))\n",
      "first.reshape(3, 3)\n"
     ],
     "language": "python",
     "metadata": {},
     "outputs": []
    },
    {
     "cell_type": "markdown",
     "metadata": {},
     "source": [
      "$$$$ Adding axes\n",
      "\n",
      "Indexing with the np.newaxis object adds an axis to an array"
     ]
    },
    {
     "cell_type": "code",
     "collapsed": false,
     "input": [
      "z = np.array([1, 2, 3])\n",
      "z[np.newaxis, :]"
     ],
     "language": "python",
     "metadata": {},
     "outputs": []
    },
    {
     "cell_type": "code",
     "collapsed": false,
     "input": [
      "# you can use reshape as well: -1 is automatic\n",
      "z.reshape(1, -1)"
     ],
     "language": "python",
     "metadata": {},
     "outputs": []
    },
    {
     "cell_type": "markdown",
     "metadata": {},
     "source": [
      "Change physical size using <span style='font-family:monospace'>array.resize</span>"
     ]
    },
    {
     "cell_type": "code",
     "collapsed": false,
     "input": [
      "block = np.array([[ 10,  20,  30],\n",
      "               [110, 120, 130],\n",
      "               [210, 220, 230]])\n",
      "block.resize(2, 2)\n",
      "block\n",
      "# This works in place, i.e., it modifies the array, rather than returning a new alias."
     ],
     "language": "python",
     "metadata": {},
     "outputs": []
    },
    {
     "cell_type": "markdown",
     "metadata": {},
     "source": [
      "### Review\n",
      "* Arrays are blocks of homogeneous data\n",
      "* Ways of creating arrays\n",
      "* Most operations create aliases\n",
      "* Can be reshaped (size remains the same)\n",
      "* Or resized \n"
     ]
    },
    {
     "cell_type": "markdown",
     "metadata": {},
     "source": [
      "* * * "
     ]
    },
    {
     "cell_type": "heading",
     "level": 2,
     "metadata": {},
     "source": [
      "4. Indexing"
     ]
    },
    {
     "cell_type": "markdown",
     "metadata": {},
     "source": [
      "Indexing starts with 0, and ending index is exclusive\n"
     ]
    },
    {
     "cell_type": "code",
     "collapsed": false,
     "input": [
      "b = np.ones((100, ))\n",
      "for i in xrange(b.shape[0]//10):\n",
      "    b[i * 10:(i + 1) * 10].sum()\n",
      "\n",
      "# VS.\n",
      "\n",
      "    b[(i-1)*10 + 1:i * 10].sum()"
     ],
     "language": "python",
     "metadata": {},
     "outputs": []
    },
    {
     "cell_type": "heading",
     "level": 3,
     "metadata": {},
     "source": [
      "Slicing"
     ]
    },
    {
     "cell_type": "markdown",
     "metadata": {},
     "source": [
      "Can slice arrays like lists or strings\n"
     ]
    },
    {
     "cell_type": "code",
     "collapsed": false,
     "input": [
      "block = array([[ 10,  20,  30,  40],\n",
      "               [110, 120, 130, 140],\n",
      "               [210, 220, 230, 240]])\n",
      "\n",
      "block[0:3, 0:2]  # equivalent to block[:3, :2]"
     ],
     "language": "python",
     "metadata": {},
     "outputs": []
    },
    {
     "cell_type": "code",
     "collapsed": false,
     "input": [
      "display(Image(filename='./images/snapshot4.png'))"
     ],
     "language": "python",
     "metadata": {},
     "outputs": []
    },
    {
     "cell_type": "markdown",
     "metadata": {},
     "source": [
      "Are slices aliases or copies?\n"
     ]
    },
    {
     "cell_type": "markdown",
     "metadata": {},
     "source": [
      "Can assign to slices\n"
     ]
    },
    {
     "cell_type": "code",
     "collapsed": false,
     "input": [
      "block[1, 1:3] = 0\n",
      "block"
     ],
     "language": "python",
     "metadata": {},
     "outputs": []
    },
    {
     "cell_type": "markdown",
     "metadata": {},
     "source": [
      "Slice on both sides to shift data\n"
     ]
    },
    {
     "cell_type": "code",
     "collapsed": false,
     "input": [
      "vector = np.array([10, 20, 30, 40])\n",
      "vector[0:3] = vector[1:4]\n",
      "vector\n"
     ],
     "language": "python",
     "metadata": {},
     "outputs": []
    },
    {
     "cell_type": "markdown",
     "metadata": {},
     "source": [
      "Numpy indexing and slicing"
     ]
    },
    {
     "cell_type": "code",
     "collapsed": false,
     "input": [
      "display(Image(filename='./images/numpy_indexing.png'))"
     ],
     "language": "python",
     "metadata": {},
     "outputs": []
    },
    {
     "cell_type": "heading",
     "level": 3,
     "metadata": {},
     "source": [
      "Fancy Indexing"
     ]
    },
    {
     "cell_type": "markdown",
     "metadata": {},
     "source": [
      "Lists or arrays of integers or booleans as index\n"
     ]
    },
    {
     "cell_type": "code",
     "collapsed": false,
     "input": [
      "vector = np.array([0, 10, 20, 30])\n",
      "ix = [3, 1, 2]\n",
      "vector[ix]"
     ],
     "language": "python",
     "metadata": {},
     "outputs": []
    },
    {
     "cell_type": "code",
     "collapsed": false,
     "input": [
      "display(Image(filename='./images/snapshot5.png'))"
     ],
     "language": "python",
     "metadata": {},
     "outputs": []
    },
    {
     "cell_type": "markdown",
     "metadata": {},
     "source": [
      "Also works in multiple dimensions\n"
     ]
    },
    {
     "cell_type": "code",
     "collapsed": false,
     "input": [
      "#Though operation may not be obvious\n",
      "\n",
      "square = np.array([[5, 6], [7, 8]])\n",
      "square[[1]]\n"
     ],
     "language": "python",
     "metadata": {},
     "outputs": []
    },
    {
     "cell_type": "heading",
     "level": 4,
     "metadata": {},
     "source": [
      "Comparisons\n"
     ]
    },
    {
     "cell_type": "code",
     "collapsed": false,
     "input": [
      "vector = array([0, 10, 20, 30])\n",
      "vector < 25"
     ],
     "language": "python",
     "metadata": {},
     "outputs": []
    },
    {
     "cell_type": "markdown",
     "metadata": {},
     "source": [
      "Use a Boolean index as a mask"
     ]
    },
    {
     "cell_type": "code",
     "collapsed": false,
     "input": [
      "vector[vector < 25]\n",
      "# is this copy or view?"
     ],
     "language": "python",
     "metadata": {},
     "outputs": []
    },
    {
     "cell_type": "code",
     "collapsed": false,
     "input": [
      "display(Image(filename='./images/snapshot6.png'))"
     ],
     "language": "python",
     "metadata": {},
     "outputs": []
    },
    {
     "cell_type": "markdown",
     "metadata": {},
     "source": [
      "Use masking for assignment\n"
     ]
    },
    {
     "cell_type": "code",
     "collapsed": false,
     "input": [
      "a = array([0, 1, 2, 3])\n",
      "mask = array([True, False, True, False])\n",
      "a[mask] = array([100, 101, 102, 103])\n",
      "a"
     ],
     "language": "python",
     "metadata": {},
     "outputs": []
    },
    {
     "cell_type": "code",
     "collapsed": false,
     "input": [
      "display(Image(filename='./images/snapshot7.png'))"
     ],
     "language": "python",
     "metadata": {},
     "outputs": []
    },
    {
     "cell_type": "markdown",
     "metadata": {},
     "source": [
      "The putmask function works slightly differently\n"
     ]
    },
    {
     "cell_type": "code",
     "collapsed": false,
     "input": [
      "a = array([0, 1, 2, 3])\n",
      "putmask(a, mask,\n",
      "        array([100, 101, 102, 103]))\n",
      "a\n"
     ],
     "language": "python",
     "metadata": {},
     "outputs": []
    },
    {
     "cell_type": "code",
     "collapsed": false,
     "input": [
      "display(Image(filename='./images/snapshot8.png'))"
     ],
     "language": "python",
     "metadata": {},
     "outputs": []
    },
    {
     "cell_type": "code",
     "collapsed": false,
     "input": [
      "# equivalent to\n",
      "a[mask] = array([100, 101, 102, 103])[mask]"
     ],
     "language": "python",
     "metadata": {},
     "outputs": []
    },
    {
     "cell_type": "markdown",
     "metadata": {},
     "source": [
      "Use nonzero function to get actual indices:"
     ]
    },
    {
     "cell_type": "code",
     "collapsed": false,
     "input": [
      "mask = array([True, False, True, False])\n",
      "nonzero(mask) or mask.nonzero()"
     ],
     "language": "python",
     "metadata": {},
     "outputs": []
    },
    {
     "cell_type": "code",
     "collapsed": false,
     "input": [
      "display(Image(filename='./images/numpy_fancy_indexing.png'))"
     ],
     "language": "python",
     "metadata": {},
     "outputs": []
    },
    {
     "cell_type": "markdown",
     "metadata": {},
     "source": [
      "Python does not allow objects to re-define\n",
      "the meaning of <span style='font-family:monospace'>and/or/not</span>\n"
     ]
    },
    {
     "cell_type": "code",
     "collapsed": false,
     "input": [
      "vector = array([0, 10, 20, 30])\n",
      "vector <= 20\n"
     ],
     "language": "python",
     "metadata": {},
     "outputs": []
    },
    {
     "cell_type": "code",
     "collapsed": false,
     "input": [
      "(vector <= 20) and (vector >= 20)\n"
     ],
     "language": "python",
     "metadata": {},
     "outputs": []
    },
    {
     "cell_type": "markdown",
     "metadata": {},
     "source": [
      "Use <span style='font-family:monospace'>np.logical_and/np.logical_or</span> functions\n"
     ]
    },
    {
     "cell_type": "code",
     "collapsed": false,
     "input": [
      "np.logical_and(vector <= 20, vector >= 20)"
     ],
     "language": "python",
     "metadata": {},
     "outputs": []
    },
    {
     "cell_type": "markdown",
     "metadata": {},
     "source": [
      "Use where instead of <span style='font-family:monospace'>if/else</span>\n",
      "\n",
      "    Where(condition, [if, else])\n"
     ]
    },
    {
     "cell_type": "code",
     "collapsed": false,
     "input": [
      "vector = array([10, 20, 30, 40])\n",
      "where(vector < 25, vector, 0)\n"
     ],
     "language": "python",
     "metadata": {},
     "outputs": []
    },
    {
     "cell_type": "code",
     "collapsed": false,
     "input": [
      "where(vector > 25, vector/10, vector)"
     ],
     "language": "python",
     "metadata": {},
     "outputs": []
    },
    {
     "cell_type": "markdown",
     "metadata": {},
     "source": [
      "### Review\n",
      "####Slicing \n",
      "* Arrays can be sliced\n",
      "\n",
      "#### Fancy indexing\n",
      "* Arrays can be indexed with vectors of indices\n",
      "* Or masked with conditionals\n"
     ]
    },
    {
     "cell_type": "code",
     "collapsed": false,
     "input": [],
     "language": "python",
     "metadata": {},
     "outputs": []
    }
   ],
   "metadata": {}
  }
 ]
}