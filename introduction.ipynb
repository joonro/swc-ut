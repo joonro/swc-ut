{
 "metadata": {
  "name": "introduction"
 },
 "nbformat": 3,
 "nbformat_minor": 0,
 "worksheets": [
  {
   "cells": [
    {
     "cell_type": "markdown",
     "metadata": {},
     "source": [
      "#Numerical Libraires and Plotting\n",
      "\n",
      "Joon Ro <br>\n",
      "PhD Student in Marketing<br>\n",
      "McCombs School of Business<br>\n",
      "University of Texas at Austin<br>\n",
      "\n",
      "Thanks for Richard T. Guy and Python Scientific Lecture Notes (http://scipy-lectures.github.com/)\n",
      "\n",
      "\n",
      "## Outline\n",
      "1. Introduction of Scientific Python Stack\n",
      "1. NumPy\n",
      "    * Introduction\n",
      "    * Array Creation\n",
      "1. Matplotlib \u2013 2d plotting\n",
      "1. Mayavi \u2013 3d plotting\n",
      "1. NumPy (again) & SciPy\n",
      "    *  Array Method and Properties\n",
      "    *  Indexing\n",
      "        *  Slicing\n",
      "        *  Fancy Indexing\n",
      "    *  Numerical Operations on Arrays\n",
      "    *  Differences\n",
      "\n",
      "\n",
      "\n"
     ]
    },
    {
     "cell_type": "markdown",
     "metadata": {},
     "source": [
      "# Scientific Python Stack"
     ]
    },
    {
     "cell_type": "markdown",
     "metadata": {},
     "source": [
      "* NumPy\n",
      "* SciPy\n",
      "    * Scikits\n",
      "\n",
      "* Matplotlib\n",
      "* Mayavi\n",
      "\n",
      "\n",
      "* PyTables\n",
      "* Cython\n",
      "* SymPy\n"
     ]
    },
    {
     "cell_type": "markdown",
     "metadata": {},
     "source": [
      "# NumPy\n",
      "\n",
      "*   Extension package to Python for multi-dimensional arrays\n",
      "*   Many scientific applications involve with array operations, e.g.: \n",
      "$$ \\beta = \\left( X'X \\right)^{(\u22121)}X'y $$\n",
      "*   Writing loops are generally not recommended\n",
      "*   NumPy provides ndarray data type with many numerical methods\n",
      "*   array operations are done with underlying libraries\n"
     ]
    },
    {
     "cell_type": "markdown",
     "metadata": {},
     "source": [
      "# SciPy\n",
      "\n",
      "* The scipy package contains various toolboxes dedicated to common issues in scientific computing. \n",
      "* Its different submodules correspond to different applications, such as interpolation, integration, optimization, image processing, statistics, special functions, etc.\n",
      "* http://docs.scipy.org/doc/scipy/reference/\n",
      "    * scipy.stats\n",
      "    * scipy.linalg\n",
      "    * scipy.optimize\n",
      "    * scipy.io\n",
      "\n"
     ]
    },
    {
     "cell_type": "markdown",
     "metadata": {},
     "source": [
      "# Matplotlib\n",
      "\n",
      "* matplotlib is a python 2D plotting library which produces publication quality figures in a variety of hardcopy formats and interactive environments across platforms"
     ]
    },
    {
     "cell_type": "markdown",
     "metadata": {},
     "source": [
      "# Pylab\n",
      "\n",
      "Start IPython with <span style='font-family:monospace'>ipython --pylab</span>, and it allows interactive matplotlib sessions that have Matlab/Mathematica-like functionality.\n",
      "\n",
      "pylab provides a procedural interface to the matplotlib object-oriented plotting library. It is modeled closely after Matlab(TM). Therefore, the majority of plotting commands in pylab have Matlab(TM) analogs with similar arguments.\n",
      "\n"
     ]
    },
    {
     "cell_type": "markdown",
     "metadata": {},
     "source": [
      "# Mayavi \n",
      "\n",
      "* Mayavi2 is a general purpose, cross-platform tool for 3-D scientific data visualization. "
     ]
    },
    {
     "cell_type": "markdown",
     "metadata": {},
     "source": [
      "# Scikits\n",
      "\n",
      "* Modules not included in SciPy because either too specialized or License difference\n",
      "* http://scikits.appspot.com/scikits\n",
      "* Statsmodels - Econometrics\n",
      "    * http://statsmodels.sourceforge.net/\n",
      "\n"
     ]
    },
    {
     "cell_type": "markdown",
     "metadata": {},
     "source": [
      "# PyTables\n",
      "\n",
      "* http://www.pytables.org\n",
      "* Python interface to HDF5 (Hierarchical Data Format 5)\n",
      "* Fast, easy to use tool for interactively browse, process and search large amounts of data\n",
      "* Optimizes memory and disk resources\n",
      "    * On-the-fly compression\n",
      "\n",
      "## ViTables\n",
      "* http://vitables.org/\n",
      "* GUI for browsing and editing files in both PyTables and HDF5 formats"
     ]
    },
    {
     "cell_type": "markdown",
     "metadata": {},
     "source": [
      "# Cython\n",
      "\n",
      "* A programming language based on Python, with extra syntax allowing for optional static type declarations\n",
      "* Python-like language -> optimized C/C++ code -> Python extension modules\n"
     ]
    },
    {
     "cell_type": "markdown",
     "metadata": {},
     "source": [
      "* Some operations are inherently loop-intensive and hard to vectorize. E.g:\n",
      "    * Individual level parameter in likelihood calculation\n",
      "    * Contraction Mappings\n",
      "    * Value function iterations in MDP\n"
     ]
    },
    {
     "cell_type": "markdown",
     "metadata": {},
     "source": [
      "# SymPy\n",
      "\n",
      "* Python library for symbolic mathematics\n",
      "    * http://sympy.org/en/index.html\n",
      "* You can use Sage as well\n",
      "    * http://www.sagemath.org/"
     ]
    },
    {
     "cell_type": "markdown",
     "metadata": {},
     "source": [
      "# File I/O\n",
      "\n",
      "## txt file\n",
      "* numpy.genfromtxt\n",
      "\n",
      "\n",
      "## csv file\n",
      "* csv - python standard library \n",
      "* numpy.genfromtxt\n",
      "\n",
      "\n",
      "## Matlab file\n",
      "* hdf5 format\n",
      "* scipy.io\n",
      "\n",
      "## Excel Spreadsheet\n",
      "* xlrd\n",
      "* xlwt\n"
     ]
    },
    {
     "cell_type": "markdown",
     "metadata": {},
     "source": [
      "# How do you get these?\n",
      "\n",
      "## Linux\n",
      "    * EPD\n",
      "    * system package manager\n",
      "    * use of virtualenv is recommended\n",
      "## Windows\n",
      "    * EPD\n",
      "    * Python(x,y) \n",
      "        * http://code.google.com/p/pythonxy\n",
      "    * Unofficial Windows Binaries for Python Extension Packages\n",
      "        * http://www.lfd.uci.edu/~gohlke/pythonlibs/\n",
      "##Mac\n",
      "    * EPD\n",
      "    * ??\n"
     ]
    },
    {
     "cell_type": "code",
     "collapsed": false,
     "input": [],
     "language": "python",
     "metadata": {},
     "outputs": []
    },
    {
     "cell_type": "code",
     "collapsed": false,
     "input": [],
     "language": "python",
     "metadata": {},
     "outputs": []
    },
    {
     "cell_type": "code",
     "collapsed": false,
     "input": [],
     "language": "python",
     "metadata": {},
     "outputs": []
    },
    {
     "cell_type": "code",
     "collapsed": false,
     "input": [],
     "language": "python",
     "metadata": {},
     "outputs": []
    },
    {
     "cell_type": "code",
     "collapsed": false,
     "input": [],
     "language": "python",
     "metadata": {},
     "outputs": []
    },
    {
     "cell_type": "code",
     "collapsed": false,
     "input": [],
     "language": "python",
     "metadata": {},
     "outputs": [],
     "prompt_number": "*"
    },
    {
     "cell_type": "code",
     "collapsed": false,
     "input": [],
     "language": "python",
     "metadata": {},
     "outputs": []
    }
   ],
   "metadata": {}
  }
 ]
}