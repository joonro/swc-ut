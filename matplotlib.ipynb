{
 "metadata": {
  "name": "matplotlib"
 },
 "nbformat": 3,
 "nbformat_minor": 0,
 "worksheets": [
  {
   "cells": [
    {
     "cell_type": "heading",
     "level": 1,
     "metadata": {},
     "source": [
      "Plotting with Matplotlib (2D) and Mayavi (3D)"
     ]
    },
    {
     "cell_type": "code",
     "collapsed": false,
     "input": [
      "import matplotlib.pyplot as plt"
     ],
     "language": "python",
     "metadata": {},
     "outputs": [],
     "prompt_number": 2
    },
    {
     "cell_type": "heading",
     "level": 2,
     "metadata": {},
     "source": [
      "1D plotting"
     ]
    },
    {
     "cell_type": "code",
     "collapsed": false,
     "input": [
      "x = np.linspace(0, 3, 20)\n",
      "y = np.linspace(0, 9, 20)\n",
      "plt.plot(x, y)       # line plot"
     ],
     "language": "python",
     "metadata": {},
     "outputs": [],
     "prompt_number": 7
    },
    {
     "cell_type": "code",
     "collapsed": false,
     "input": [
      "plt.plot(x, y, 'o')  # dot plot    "
     ],
     "language": "python",
     "metadata": {},
     "outputs": [],
     "prompt_number": 8
    },
    {
     "cell_type": "code",
     "collapsed": false,
     "input": [
      "plt.show()  # not needed with pylab"
     ],
     "language": "python",
     "metadata": {},
     "outputs": [],
     "prompt_number": 5
    },
    {
     "cell_type": "markdown",
     "metadata": {},
     "source": [
      "Histogram"
     ]
    },
    {
     "cell_type": "code",
     "collapsed": false,
     "input": [
      "x = randn(10000)\n",
      "hist(x, 100)"
     ],
     "language": "python",
     "metadata": {},
     "outputs": [],
     "prompt_number": 1
    },
    {
     "cell_type": "heading",
     "level": 2,
     "metadata": {},
     "source": [
      "2D arrays (such as images)"
     ]
    },
    {
     "cell_type": "code",
     "collapsed": false,
     "input": [
      "image = np.random.rand(30, 30)\n",
      "plt.imshow(image, cmap=plt.cm.gray)   \n"
     ],
     "language": "python",
     "metadata": {},
     "outputs": [],
     "prompt_number": 9
    },
    {
     "cell_type": "code",
     "collapsed": false,
     "input": [
      "plt.colorbar()"
     ],
     "language": "python",
     "metadata": {},
     "outputs": [],
     "prompt_number": 10
    },
    {
     "cell_type": "code",
     "collapsed": false,
     "input": [
      "plt.show()"
     ],
     "language": "python",
     "metadata": {},
     "outputs": [],
     "prompt_number": 11
    },
    {
     "cell_type": "heading",
     "level": 2,
     "metadata": {},
     "source": [
      "Subplots"
     ]
    },
    {
     "cell_type": "markdown",
     "metadata": {},
     "source": [
      "more object oriented way"
     ]
    },
    {
     "cell_type": "code",
     "collapsed": false,
     "input": [
      "xdata = arange(10)\n",
      "ydata = [[arange(10), arange(10, 0, -1)],\n",
      "         [arange(10, 0, -1), arange(10)]]\n",
      "\n",
      "numrow = 2\n",
      "numcol = 2\n",
      "length = 10\n",
      "height = 6\n",
      "fig, axs = plt.subplots(numrow, numcol, sharex=False, sharey=False, \n",
      "                        figsize=(length, height), squeeze=False)\n",
      "\n",
      "for i in xrange(axs.shape[0]):\n",
      "    for j in xrange(axs.shape[1]):\n",
      "        ax = axs[i, j]\n",
      "        ax.plot(xdata, ydata[i][j], label='label', linestyle='-')\n",
      "\n",
      "        ax.set_title('subplot {}, {}'.format(i, j))\n",
      "        ax.set_ylabel('ylabel')\n",
      "        ax.set_xlabel('xlabel')\n",
      "        ax.legend(loc='lower right')\n",
      "\n",
      "fig.tight_layout()\n"
     ],
     "language": "python",
     "metadata": {},
     "outputs": [],
     "prompt_number": 30
    },
    {
     "cell_type": "heading",
     "level": 2,
     "metadata": {},
     "source": [
      "3d Plots"
     ]
    },
    {
     "cell_type": "code",
     "collapsed": false,
     "input": [
      "from mayavi import mlab\n",
      "mlab.surf(image)\n",
      "mlab.axes()"
     ],
     "language": "python",
     "metadata": {},
     "outputs": [],
     "prompt_number": 12
    },
    {
     "cell_type": "markdown",
     "metadata": {},
     "source": [
      "matplotlib gallery: http://matplotlib.org/gallery.html\n",
      "\n",
      "\n"
     ]
    },
    {
     "cell_type": "markdown",
     "metadata": {},
     "source": [
      "mayavi example gallery: http://docs.enthought.com/mayavi/mayavi/auto/examples.html"
     ]
    },
    {
     "cell_type": "markdown",
     "metadata": {},
     "source": [
      "## Resources\n",
      "\n",
      "http://scipy-lectures.github.com/intro/matplotlib/matplotlib.html#ipython-and-the-pylab-mode\n",
      "\n",
      "http://scipy-lectures.github.com/advanced/3d_plotting/index.html#mayavi-label"
     ]
    },
    {
     "cell_type": "code",
     "collapsed": false,
     "input": [],
     "language": "python",
     "metadata": {},
     "outputs": []
    }
   ],
   "metadata": {}
  }
 ]
}